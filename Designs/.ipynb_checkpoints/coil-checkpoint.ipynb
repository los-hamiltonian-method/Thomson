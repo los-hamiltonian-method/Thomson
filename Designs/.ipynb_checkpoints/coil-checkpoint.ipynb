{
 "cells": [
  {
   "cell_type": "code",
   "execution_count": 27,
   "id": "cf0c734f-536a-49cd-abe3-ea54b46701ce",
   "metadata": {},
   "outputs": [],
   "source": [
    "from numpy import pi\n",
    "copper_density = 8.96 / 1E3**2 # kg / mm3\n",
    "\n",
    "def wire_weight(wireD, coilD): # kg\n",
    "    L = pi * coilD\n",
    "    A = pi * wireD**2 / 4\n",
    "    return A * L * copper_density\n",
    "\n",
    "def total_cross_section(wireD, N):\n",
    "    A = pi * wireD**2 / 4\n",
    "    return A * N"
   ]
  },
  {
   "cell_type": "code",
   "execution_count": 33,
   "id": "172b6a3f-8a95-4a5a-9f52-8c66a12636ce",
   "metadata": {},
   "outputs": [
    {
     "name": "stdout",
     "output_type": "stream",
     "text": [
      "M = 3.855840675938889, AT = 4.150947668766701\n"
     ]
    }
   ],
   "source": [
    "wireD = 0.8128 # mm, AWG20\n",
    "coilD = 330 # mm\n",
    "N = 800 # Número de vueltas\n",
    "M = N * wire_weight(wireD, coilD) # kg\n",
    "AT = total_cross_section(wireD, N) # mm2\n",
    "AT = AT / 10**2 #cm2\n",
    "print(f\"{M = }, {AT = }\")"
   ]
  },
  {
   "cell_type": "code",
   "execution_count": null,
   "id": "9cab7a19-4e1e-4221-a3f6-cc36b8ecc2a2",
   "metadata": {},
   "outputs": [],
   "source": []
  }
 ],
 "metadata": {
  "kernelspec": {
   "display_name": "Python 3 (ipykernel)",
   "language": "python",
   "name": "python3"
  },
  "language_info": {
   "codemirror_mode": {
    "name": "ipython",
    "version": 3
   },
   "file_extension": ".py",
   "mimetype": "text/x-python",
   "name": "python",
   "nbconvert_exporter": "python",
   "pygments_lexer": "ipython3",
   "version": "3.10.7"
  }
 },
 "nbformat": 4,
 "nbformat_minor": 5
}
